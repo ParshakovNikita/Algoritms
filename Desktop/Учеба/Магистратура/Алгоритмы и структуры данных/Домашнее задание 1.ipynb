{
 "cells": [
  {
   "cell_type": "markdown",
   "metadata": {},
   "source": [
    "1.1.1 Привести пример альфы и указать сложность алгоритма и пространственную сложность для нее (по элементно и асимптотическую)"
   ]
  },
  {
   "cell_type": "markdown",
   "metadata": {},
   "source": [
    "alpha = rank((-1*((1-(open/close**2))**5)))\n",
    "alpha = normalize(neutralize(alpha))\n"
   ]
  },
  {
   "cell_type": "code",
   "execution_count": null,
   "metadata": {},
   "outputs": [],
   "source": [
    "\"\"\"\n",
    "alpha = rank( (-1* ( (1-(open/close**2) )**5) ) )\n",
    "alpha = truncate(alpha, 0.05)\n",
    "alpha = decay(alpha,10)\n",
    "\n",
    "При использовании оператора * для умножения двух датафреймов pandas попытается использовать векторизированные операции и избежать циклов\n",
    "в чистом виде. Это может быть достигнуто благодаря оптимизированным операциям NumPy, на которых основана pandas.\n",
    "\n",
    "Однако есть случаи, когда векторизация невозможна из-за разных размеров или форматов данных, и в таких случаях могут\n",
    "использоваться циклы для обработки данных поэлементно.\n",
    "\n",
    "1. Операция open/close ввиду одинаковой размерность имеет сложность О(mn), где\n",
    "n - кол-во столбцов (тикеры)\n",
    "m - количество строк (даты)\n",
    "\n",
    "Простейшие операции с константами имеют аналогичную сложность. В нашем случае таких операций 5 -> О(5mn)\n",
    "\n",
    "Функция rank:\n",
    "\n",
    "def rank_dataframe(dataframe):\n",
    "    normalized_ranks = dataframe.apply(lambda row: (row.rank() - 1) / (len(row) - 1), axis=1)\n",
    "    return normalized_ranks\n",
    "\n",
    "Для каждой строки операция ранжирования .rank() имеет сложность О(m * log(m))\n",
    "Оперция len имеет линейную сложность O(n), где n - длина строки\n",
    "Простейшие операции вычитания и деления имеют сложность О(n)\n",
    "\n",
    "Итого сложность \"в скобках\" имеет вид O (m * log(m) + 4n)\n",
    "\n",
    "Для всего датафрейма операция потребует O(n (m * log(m) + 4n) )\n",
    "\n",
    "Итого сложность строки alpha = rank( (-1* ( (1-(open/close**2) )**5) ) ) будет иметь вид:\n",
    "   \n",
    "O(n*(m*log(m) + 4*n) + 5*m*n)\n",
    "\n",
    "2. Операция нормализации и нейтрализации\n",
    "\n",
    "def neutralize(alpha) -> pd.DataFrame:\n",
    "    return (alpha.T - alpha.T.mean()).T\n",
    "    \n",
    "def normalize(alpha) -> pd.DataFrame:\n",
    "    return (alpha.T/alpha.T.abs().sum()).T\n",
    "\n",
    "Транспонирование, нахождение среднего и простейшие операции в пандас имеют линейную сложность O (m*n)\n",
    "Сложность нейтрализации = О(5*m*n)\n",
    "Сложность нормализации = О(6*m*n)\n",
    "\n",
    "Итоговая сложность построения альфы\n",
    "\n",
    "O( n*(m*log(m) + 4*n) + 16*m*n)\n",
    "\n",
    "Ассимптотическая сложность = O(nmlogm + n^2 + mn)\n",
    "\n",
    "\"\"\""
   ]
  },
  {
   "cell_type": "markdown",
   "metadata": {},
   "source": [
    "1.1.2. Даны три натуральных числа. Возможно ли построить треугольник с такими сторонами. Если это возможно, выведите строку YES, иначе выведите строку NO. Треугольник — это три точки, не лежащие на одной прямой."
   ]
  },
  {
   "cell_type": "code",
   "execution_count": null,
   "metadata": {},
   "outputs": [],
   "source": [
    "a = int(input())\n",
    "b = int(input())\n",
    "c = int(input())\n",
    "if (a + b) > c and (a + c) > b and (c + b) > a:\n",
    "\tprint(\"YES\")\n",
    "else: print(\"NO\")"
   ]
  },
  {
   "cell_type": "markdown",
   "metadata": {},
   "source": [
    "1.1.3. Решите в целых числах уравнение c корнем. Найти все решения или сообщить, что решений в целых числах нет."
   ]
  },
  {
   "cell_type": "code",
   "execution_count": null,
   "metadata": {},
   "outputs": [],
   "source": [
    "a = int(input())\n",
    "b = int(input())\n",
    "c = int(input())\n",
    "\n",
    "if c < 0:\n",
    "    print(\"NO SOLUTION\") \n",
    "else:\n",
    "    if a == 0:\n",
    "        if b == c**2:\n",
    "            print(\"MANY SOLUTIONS\") \n",
    "        else:\n",
    "            print(\"NO SOLUTION\")\n",
    "    else:\n",
    "        D = c**2 - b\n",
    "        if  D % a == 0:\n",
    "            x = D // a\n",
    "            print(x)\n",
    "        else:\n",
    "            print(\"NO SOLUTION\")"
   ]
  },
  {
   "cell_type": "markdown",
   "metadata": {},
   "source": [
    "1.2. Бригада скорой помощи выехала по вызову в один из отделенных районов. К сожалению, когда диспетчер получил вызов, он успел записать только адрес дома и номер квартиры K1, а затем связь прервалась. Однако он вспомнил, что по этому же адресу дома некоторое время назад скорая помощь выезжала в квартиру K2, которая расположена в подъезда P2 на этаже N2. Известно, что в доме M этажей и количество квартир на каждой лестничной площадке одинаково. Напишите программу, которая вычилсяет номер подъезда P1 и номер этажа N1 квартиры K1."
   ]
  },
  {
   "cell_type": "code",
   "execution_count": null,
   "metadata": {},
   "outputs": [],
   "source": [
    "K1, M, K2, P2, N2 = input().split(\" \")\n",
    "K1 = int(K1)\n",
    "M = int(M)\n",
    "K2 = int(K2)\n",
    "P2 = int(P2)\n",
    "N2 = int(N2)\n",
    "\n",
    "if P2 == 1 and N2 == 1:\n",
    "  if K1 <= K2:\n",
    "    print(\"1 1\")\n",
    "  elif M == 1:\n",
    "    print(\"0 1\")\n",
    "  elif K1 <= M * K2:\n",
    "    print(\"1 0\")\n",
    "  else:\n",
    "    print(\"0 0\")\n",
    "elif N2 == 2 and P2 == 1:\n",
    "    if K2 == 2:\n",
    "        x = 1\n",
    "        P1 = K1 // (M * x) + 1\n",
    "        N1 = (K1 - ((P1 - 1) * x * M)) // x + 1\n",
    "        print(f\"{P1} {N1}\")\n",
    "    elif K2 == 3:\n",
    "        x = 2\n",
    "        P1 = K1 // (M * x) + 1\n",
    "        N1 = (K1 - ((P1 - 1) * x * M)) // x + 1\n",
    "        print(f\"{P1} {N1}\")\n",
    "    else:\n",
    "        print(\"-1 -1\")\n",
    "else:\n",
    "    x = K2 // ((N2 - 1) + M * (P2 - 1))\n",
    "    if x < 1 or K2 % ((N2 - 1) + M * (P2 - 1)) == 0:\n",
    "        P1 = -1\n",
    "        N1 = -1\n",
    "    elif x == 1:\n",
    "        P1 = K1 // (M) + 1\n",
    "        N1 = K1 - (M * (P1-1))\n",
    "    else:\n",
    "        P1 = K1 // (M * x) + 1\n",
    "        N1 = (K1 - ((P1 - 1) * x * M)) // x + 1\n",
    "    print(f\"{P1} {N1}\")"
   ]
  },
  {
   "cell_type": "markdown",
   "metadata": {},
   "source": [
    "1.3. Имеется N кг металлического сплава. Из него изготавливают заготовки массой K кг каждая. После этого из каждой заготовки вытачиваются детали массой M кг каждая (из каждой заготовки вытачивают максимально возможное количество деталей). Если от заготовок после этого что-то остается, то этот материал возвращают к началу производственного цикла и сплавляют с тем, что осталось при изготовлении заготовок. Если того сплава, который получился, достаточно для изготовления хотя бы одной заготовки, то из него снова изготавливают заготовки, из них – детали и т.д. Напишите программу, которая вычислит, какое количество деталей может быть получено по этой технологии из имеющихся исходно N кг сплава."
   ]
  },
  {
   "cell_type": "code",
   "execution_count": 2,
   "metadata": {},
   "outputs": [
    {
     "name": "stdout",
     "output_type": "stream",
     "text": [
      "3\n"
     ]
    }
   ],
   "source": [
    "N, K, M = input().split(\" \")\n",
    "N = int(N)\n",
    "K = int(K)\n",
    "M = int(M)\n",
    "\n",
    "def splav(N, K, M):\n",
    "    sum_d = 0\n",
    "    if K > N:\n",
    "        return 0\n",
    "    if M > K: \n",
    "        return 0\n",
    "    else:\n",
    "        while N >= K:\n",
    "            zakotovki = N // K\n",
    "            detali = zakotovki * (K // M)\n",
    "            ostatok = N % K + zakotovki * (K % M)\n",
    "\n",
    "            N = ostatok\n",
    "            sum_d += detali\n",
    "    \n",
    "    return sum_d\n",
    "\n",
    "print(splav(N, K, M))"
   ]
  },
  {
   "cell_type": "markdown",
   "metadata": {},
   "source": [
    "1.4. За многие годы заточения узник замка Иф проделал в стене прямоугольное отверстие размером D × E. Замок Иф сложен из кирпичей, размером A × B × C. Определите, сможет ли узник выбрасывать кирпичи в море через это отверстие, если стороны кирпича должны быть параллельны сторонам отверстия."
   ]
  },
  {
   "cell_type": "code",
   "execution_count": 7,
   "metadata": {},
   "outputs": [
    {
     "name": "stdout",
     "output_type": "stream",
     "text": [
      "YES\n"
     ]
    }
   ],
   "source": [
    "A = int(input())\n",
    "B = int(input())\n",
    "C = int(input())\n",
    "D = int(input())\n",
    "E = int(input())\n",
    "\n",
    "def block_dropper(A, B, C, D, E):\n",
    "    block_size_sorted = sorted([A, B, C])\n",
    "    hole_size_sorted = sorted([D, E])\n",
    "\n",
    "    if block_size_sorted[0] <= hole_size_sorted[0]: # самая маленькая сторона кирпича <= самой маленькой стороны дыры\n",
    "        if (block_size_sorted[1] <= hole_size_sorted[1] or block_size_sorted[2] <= hole_size_sorted[1]): # хотя бы одна из 2 самых длинных сторон кирпича меньше длинной стороны дыры\n",
    "            return \"YES\"\n",
    "        else:\n",
    "            return \"NO\"\n",
    "    else:\n",
    "        if block_size_sorted[1] <= hole_size_sorted[0] and block_size_sorted[2] <= hole_size_sorted[1]:\n",
    "            return \"YES\"\n",
    "        else:\n",
    "            return \"NO\"\n",
    "        \n",
    "\n",
    "print(block_dropper(A, B, C, D, E))\n"
   ]
  },
  {
   "cell_type": "markdown",
   "metadata": {},
   "source": [
    "1.5. Даны числа a, b, c, d, e, f. Решить систему линейных уравнений:"
   ]
  },
  {
   "attachments": {
    "image-2.png": {
     "image/png": "[encoded data removed]"
    }
   },
   "cell_type": "markdown",
   "metadata": {},
   "source": [
    "![image-2.png](attachment:image-2.png)"
   ]
  },
  {
   "cell_type": "code",
   "execution_count": 14,
   "metadata": {},
   "outputs": [
    {
     "name": "stdout",
     "output_type": "stream",
     "text": [
      "0.5\n"
     ]
    }
   ],
   "source": [
    "a = float(input())\n",
    "b = float(input())\n",
    "c = float(input())\n",
    "d = float(input())\n",
    "e = float(input())\n",
    "f = float(input())\n",
    "\n",
    "\n",
    "def solution(a, b, c, d, e, f):\n",
    "    delta = a * d - b * c\n",
    "    delta_x = e * d - b * f\n",
    "    delta_y = a * f - c * e\n",
    "    if delta == 0:\n",
    "        if a == b == c == d == e == f == 0:\n",
    "            return 5\n",
    "        elif a == b == 0 and e != 0:\n",
    "            return 0\n",
    "        elif c == d == 0 and f != 0:\n",
    "            return 0\n",
    "        elif delta_x == 0:\n",
    "            if a == c == 0:\n",
    "                if b == 0:\n",
    "                    return f\"4 {f / d}\" \n",
    "                else: \n",
    "                    return f\"4 {e / b}\"\n",
    "            elif b == d == 0:\n",
    "                if delta_y == 0:\n",
    "                    if a == 0:\n",
    "                        return f\"3 {f / c}\"\n",
    "                    else:\n",
    "                        return f\"3 {e / a}\"\n",
    "                else:\n",
    "                    return 0\n",
    "            else:\n",
    "                if d == 0:\n",
    "                    return f\"1 {- a / b} {e / b}\"\n",
    "                else:\n",
    "                    return f\"1 {- c / d} {f / d}\"\n",
    "        else:\n",
    "            return 0\n",
    "    else:\n",
    "        return f\"2 {delta_x / delta} {delta_y / delta}\"\n",
    "    \n",
    "print(solution(a, b, c, d, e, f))"
   ]
  }
 ],
 "metadata": {
  "kernelspec": {
   "display_name": "Python 3",
   "language": "python",
   "name": "python3"
  },
  "language_info": {
   "codemirror_mode": {
    "name": "ipython",
    "version": 3
   },
   "file_extension": ".py",
   "mimetype": "text/x-python",
   "name": "python",
   "nbconvert_exporter": "python",
   "pygments_lexer": "ipython3",
   "version": "3.11.5"
  }
 },
 "nbformat": 4,
 "nbformat_minor": 2
}
